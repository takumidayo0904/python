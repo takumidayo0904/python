{
 "cells": [
  {
   "cell_type": "code",
   "execution_count": null,
   "id": "cbf7b7b7-2a40-4db9-9def-32e423184010",
   "metadata": {},
   "outputs": [
    {
     "name": "stdout",
     "output_type": "stream",
     "text": [
      " * Serving Flask app '__main__'\n",
      " * Debug mode: off\n"
     ]
    },
    {
     "name": "stderr",
     "output_type": "stream",
     "text": [
      "WARNING: This is a development server. Do not use it in a production deployment. Use a production WSGI server instead.\n",
      " * Running on http://127.0.0.1:5000\n",
      "Press CTRL+C to quit\n",
      "127.0.0.1 - - [05/Feb/2025 10:57:06] \"POST /process_data HTTP/1.1\" 200 -\n"
     ]
    },
    {
     "name": "stdout",
     "output_type": "stream",
     "text": [
      "Debug: Received data from Java: 天気\n",
      "Processed in Jupyter Lab: 本当に素晴らしい天気ですね！\n"
     ]
    }
   ],
   "source": [
    "from flask import Flask, request, jsonify\n",
    "\n",
    "app = Flask(__name__)\n",
    "\n",
    "@app.route('/process_data', methods=['POST'])\n",
    "def process_data():\n",
    "    \"\"\"Jupyter Labに受け渡すデータを受信し、処理を行う\"\"\"\n",
    "\n",
    "    # JSONデータからメッセージを取得\n",
    "    received_data = request.json.get('message', '')\n",
    "    if not received_data:\n",
    "        return jsonify({\"error\": \"No data received\"}), 400\n",
    "\n",
    "    # デバッグ出力\n",
    "    print(f\"Debug: Received data from Java: {received_data}\")\n",
    "\n",
    "    # メッセージに基づく応答\n",
    "    if \"Hello\" in received_data:\n",
    "        response_message = \"Hello from Python!\"\n",
    "    elif \"天気\" in received_data:\n",
    "        response_message = \"本当に素晴らしい天気ですね！\"\n",
    "    elif \"週末\" in received_data:\n",
    "        response_message = \"週末はリラックスして過ごしました。あなたはどうでしたか？\"\n",
    "    elif \"ありがとう\" in received_data:\n",
    "        response_message = \"どういたしまして！\"\n",
    "    else:\n",
    "        response_message = f\"受信データ: {received_data}\"\n",
    "\n",
    "    print(f\"Processed in Jupyter Lab: {response_message}\")\n",
    "    return jsonify({\"processed_data\": response_message}), 200\n",
    "\n",
    "if __name__ == '__main__':\n",
    "    app.run(port=5000)  # Flaskサーバーを5000番ポートで実行\n"
   ]
  },
  {
   "cell_type": "code",
   "execution_count": null,
   "id": "7a27445c-75f0-47dd-a7c7-8c4cf08f9f38",
   "metadata": {},
   "outputs": [],
   "source": []
  }
 ],
 "metadata": {
  "kernelspec": {
   "display_name": "Python 3 (ipykernel)",
   "language": "python",
   "name": "python3"
  },
  "language_info": {
   "codemirror_mode": {
    "name": "ipython",
    "version": 3
   },
   "file_extension": ".py",
   "mimetype": "text/x-python",
   "name": "python",
   "nbconvert_exporter": "python",
   "pygments_lexer": "ipython3",
   "version": "3.13.1"
  }
 },
 "nbformat": 4,
 "nbformat_minor": 5
}
