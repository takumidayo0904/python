{
 "cells": [
  {
   "cell_type": "code",
   "execution_count": null,
   "id": "cbf7b7b7-2a40-4db9-9def-32e423184010",
   "metadata": {},
   "outputs": [
    {
     "name": "stdout",
     "output_type": "stream",
     "text": [
      " * Serving Flask app '__main__'\n",
      " * Debug mode: off\n"
     ]
    },
    {
     "name": "stderr",
     "output_type": "stream",
     "text": [
      "WARNING: This is a development server. Do not use it in a production deployment. Use a production WSGI server instead.\n",
      " * Running on http://127.0.0.1:5000\n",
      "Press CTRL+C to quit\n",
      "127.0.0.1 - - [04/Feb/2025 15:17:26] \"POST /process_data HTTP/1.1\" 200 -\n"
     ]
    },
    {
     "name": "stdout",
     "output_type": "stream",
     "text": [
      "Debug: Received data from Java: Hello\n",
      "Processed in Jupyter Lab: Hello from Python!\n"
     ]
    },
    {
     "name": "stderr",
     "output_type": "stream",
     "text": [
      "127.0.0.1 - - [04/Feb/2025 15:17:30] \"POST /process_data HTTP/1.1\" 200 -\n"
     ]
    },
    {
     "name": "stdout",
     "output_type": "stream",
     "text": [
      "Debug: Received data from Java: 天気\n",
      "Processed in Jupyter Lab: 本当に素晴らしい天気ですね！\n"
     ]
    },
    {
     "name": "stderr",
     "output_type": "stream",
     "text": [
      "127.0.0.1 - - [04/Feb/2025 15:17:35] \"POST /process_data HTTP/1.1\" 200 -\n"
     ]
    },
    {
     "name": "stdout",
     "output_type": "stream",
     "text": [
      "Debug: Received data from Java: こんにちは\n",
      "Processed in Jupyter Lab: 受信データ: こんにちは\n"
     ]
    },
    {
     "name": "stderr",
     "output_type": "stream",
     "text": [
      "127.0.0.1 - - [04/Feb/2025 15:17:37] \"POST /process_data HTTP/1.1\" 200 -\n"
     ]
    },
    {
     "name": "stdout",
     "output_type": "stream",
     "text": [
      "Debug: Received data from Java: 天気\n",
      "Processed in Jupyter Lab: 本当に素晴らしい天気ですね！\n"
     ]
    },
    {
     "name": "stderr",
     "output_type": "stream",
     "text": [
      "127.0.0.1 - - [04/Feb/2025 15:17:42] \"POST /process_data HTTP/1.1\" 200 -\n"
     ]
    },
    {
     "name": "stdout",
     "output_type": "stream",
     "text": [
      "Debug: Received data from Java: 天気\n",
      "Processed in Jupyter Lab: 本当に素晴らしい天気ですね！\n"
     ]
    },
    {
     "name": "stderr",
     "output_type": "stream",
     "text": [
      "127.0.0.1 - - [04/Feb/2025 15:17:45] \"POST /process_data HTTP/1.1\" 200 -\n"
     ]
    },
    {
     "name": "stdout",
     "output_type": "stream",
     "text": [
      "Debug: Received data from Java: 天気\n",
      "Processed in Jupyter Lab: 本当に素晴らしい天気ですね！\n"
     ]
    },
    {
     "name": "stderr",
     "output_type": "stream",
     "text": [
      "127.0.0.1 - - [04/Feb/2025 15:17:48] \"POST /process_data HTTP/1.1\" 200 -\n"
     ]
    },
    {
     "name": "stdout",
     "output_type": "stream",
     "text": [
      "Debug: Received data from Java: 4\n",
      "Processed in Jupyter Lab: 受信データ: 4\n"
     ]
    },
    {
     "name": "stderr",
     "output_type": "stream",
     "text": [
      "127.0.0.1 - - [04/Feb/2025 15:17:51] \"POST /process_data HTTP/1.1\" 200 -\n"
     ]
    },
    {
     "name": "stdout",
     "output_type": "stream",
     "text": [
      "Debug: Received data from Java: 4\n",
      "Processed in Jupyter Lab: 受信データ: 4\n"
     ]
    },
    {
     "name": "stderr",
     "output_type": "stream",
     "text": [
      "127.0.0.1 - - [04/Feb/2025 15:17:54] \"POST /process_data HTTP/1.1\" 200 -\n"
     ]
    },
    {
     "name": "stdout",
     "output_type": "stream",
     "text": [
      "Debug: Received data from Java: 4\n",
      "Processed in Jupyter Lab: 受信データ: 4\n"
     ]
    },
    {
     "name": "stderr",
     "output_type": "stream",
     "text": [
      "127.0.0.1 - - [04/Feb/2025 15:17:59] \"POST /process_data HTTP/1.1\" 200 -\n"
     ]
    },
    {
     "name": "stdout",
     "output_type": "stream",
     "text": [
      "Debug: Received data from Java: ありがとう\n",
      "Processed in Jupyter Lab: どういたしまして！\n"
     ]
    },
    {
     "name": "stderr",
     "output_type": "stream",
     "text": [
      "127.0.0.1 - - [04/Feb/2025 15:18:02] \"POST /process_data HTTP/1.1\" 200 -\n"
     ]
    },
    {
     "name": "stdout",
     "output_type": "stream",
     "text": [
      "Debug: Received data from Java: Hello\n",
      "Processed in Jupyter Lab: Hello from Python!\n"
     ]
    },
    {
     "name": "stderr",
     "output_type": "stream",
     "text": [
      "127.0.0.1 - - [04/Feb/2025 15:18:06] \"POST /process_data HTTP/1.1\" 200 -\n"
     ]
    },
    {
     "name": "stdout",
     "output_type": "stream",
     "text": [
      "Debug: Received data from Java: こんにちは\n",
      "Processed in Jupyter Lab: 受信データ: こんにちは\n"
     ]
    },
    {
     "name": "stderr",
     "output_type": "stream",
     "text": [
      "127.0.0.1 - - [04/Feb/2025 15:18:09] \"POST /process_data HTTP/1.1\" 200 -\n"
     ]
    },
    {
     "name": "stdout",
     "output_type": "stream",
     "text": [
      "Debug: Received data from Java: 天気\n",
      "Processed in Jupyter Lab: 本当に素晴らしい天気ですね！\n"
     ]
    },
    {
     "name": "stderr",
     "output_type": "stream",
     "text": [
      "127.0.0.1 - - [04/Feb/2025 15:18:15] \"POST /process_data HTTP/1.1\" 200 -\n"
     ]
    },
    {
     "name": "stdout",
     "output_type": "stream",
     "text": [
      "Debug: Received data from Java: こんにちは\n",
      "Processed in Jupyter Lab: 受信データ: こんにちは\n"
     ]
    },
    {
     "name": "stderr",
     "output_type": "stream",
     "text": [
      "127.0.0.1 - - [04/Feb/2025 15:48:51] \"POST /process_data HTTP/1.1\" 200 -\n"
     ]
    },
    {
     "name": "stdout",
     "output_type": "stream",
     "text": [
      "Debug: Received data from Java: Hello\n",
      "Processed in Jupyter Lab: Hello from Python!\n"
     ]
    },
    {
     "name": "stderr",
     "output_type": "stream",
     "text": [
      "127.0.0.1 - - [04/Feb/2025 15:54:25] \"POST /process_data HTTP/1.1\" 200 -\n"
     ]
    },
    {
     "name": "stdout",
     "output_type": "stream",
     "text": [
      "Debug: Received data from Java: Hello\n",
      "Processed in Jupyter Lab: Hello from Python!\n"
     ]
    },
    {
     "name": "stderr",
     "output_type": "stream",
     "text": [
      "127.0.0.1 - - [04/Feb/2025 15:55:44] \"POST /process_data HTTP/1.1\" 200 -\n"
     ]
    },
    {
     "name": "stdout",
     "output_type": "stream",
     "text": [
      "Debug: Received data from Java: Hello\n",
      "Processed in Jupyter Lab: Hello from Python!\n"
     ]
    },
    {
     "name": "stderr",
     "output_type": "stream",
     "text": [
      "127.0.0.1 - - [04/Feb/2025 15:56:24] \"POST /process_data HTTP/1.1\" 200 -\n"
     ]
    },
    {
     "name": "stdout",
     "output_type": "stream",
     "text": [
      "Debug: Received data from Java: Hello\n",
      "Processed in Jupyter Lab: Hello from Python!\n"
     ]
    },
    {
     "name": "stderr",
     "output_type": "stream",
     "text": [
      "127.0.0.1 - - [04/Feb/2025 15:59:08] \"POST /process_data HTTP/1.1\" 200 -\n"
     ]
    },
    {
     "name": "stdout",
     "output_type": "stream",
     "text": [
      "Debug: Received data from Java: Hello\n",
      "Processed in Jupyter Lab: Hello from Python!\n"
     ]
    },
    {
     "name": "stderr",
     "output_type": "stream",
     "text": [
      "127.0.0.1 - - [04/Feb/2025 16:02:24] \"POST /process_data HTTP/1.1\" 200 -\n"
     ]
    },
    {
     "name": "stdout",
     "output_type": "stream",
     "text": [
      "Debug: Received data from Java: Hello\n",
      "Processed in Jupyter Lab: Hello from Python!\n"
     ]
    },
    {
     "name": "stderr",
     "output_type": "stream",
     "text": [
      "127.0.0.1 - - [04/Feb/2025 16:05:21] \"POST /process_data HTTP/1.1\" 200 -\n"
     ]
    },
    {
     "name": "stdout",
     "output_type": "stream",
     "text": [
      "Debug: Received data from Java: 天気\n",
      "Processed in Jupyter Lab: 本当に素晴らしい天気ですね！\n"
     ]
    },
    {
     "name": "stderr",
     "output_type": "stream",
     "text": [
      "127.0.0.1 - - [04/Feb/2025 16:05:24] \"POST /process_data HTTP/1.1\" 200 -\n"
     ]
    },
    {
     "name": "stdout",
     "output_type": "stream",
     "text": [
      "Debug: Received data from Java: こんにちは\n",
      "Processed in Jupyter Lab: 受信データ: こんにちは\n"
     ]
    },
    {
     "name": "stderr",
     "output_type": "stream",
     "text": [
      "127.0.0.1 - - [04/Feb/2025 16:05:27] \"POST /process_data HTTP/1.1\" 200 -\n"
     ]
    },
    {
     "name": "stdout",
     "output_type": "stream",
     "text": [
      "Debug: Received data from Java: 天気\n",
      "Processed in Jupyter Lab: 本当に素晴らしい天気ですね！\n"
     ]
    },
    {
     "name": "stderr",
     "output_type": "stream",
     "text": [
      "127.0.0.1 - - [04/Feb/2025 16:05:30] \"POST /process_data HTTP/1.1\" 200 -\n"
     ]
    },
    {
     "name": "stdout",
     "output_type": "stream",
     "text": [
      "Debug: Received data from Java: こんにちは\n",
      "Processed in Jupyter Lab: 受信データ: こんにちは\n"
     ]
    },
    {
     "name": "stderr",
     "output_type": "stream",
     "text": [
      "127.0.0.1 - - [04/Feb/2025 16:05:32] \"POST /process_data HTTP/1.1\" 200 -\n"
     ]
    },
    {
     "name": "stdout",
     "output_type": "stream",
     "text": [
      "Debug: Received data from Java: Hello\n",
      "Processed in Jupyter Lab: Hello from Python!\n"
     ]
    },
    {
     "name": "stderr",
     "output_type": "stream",
     "text": [
      "127.0.0.1 - - [04/Feb/2025 16:05:35] \"POST /process_data HTTP/1.1\" 200 -\n"
     ]
    },
    {
     "name": "stdout",
     "output_type": "stream",
     "text": [
      "Debug: Received data from Java: Hello\n",
      "Processed in Jupyter Lab: Hello from Python!\n"
     ]
    },
    {
     "name": "stderr",
     "output_type": "stream",
     "text": [
      "127.0.0.1 - - [04/Feb/2025 16:05:38] \"POST /process_data HTTP/1.1\" 200 -\n"
     ]
    },
    {
     "name": "stdout",
     "output_type": "stream",
     "text": [
      "Debug: Received data from Java: 天気\n",
      "Processed in Jupyter Lab: 本当に素晴らしい天気ですね！\n"
     ]
    },
    {
     "name": "stderr",
     "output_type": "stream",
     "text": [
      "127.0.0.1 - - [04/Feb/2025 16:05:42] \"POST /process_data HTTP/1.1\" 200 -\n"
     ]
    },
    {
     "name": "stdout",
     "output_type": "stream",
     "text": [
      "Debug: Received data from Java: 天気\n",
      "Processed in Jupyter Lab: 本当に素晴らしい天気ですね！\n"
     ]
    },
    {
     "name": "stderr",
     "output_type": "stream",
     "text": [
      "127.0.0.1 - - [04/Feb/2025 16:05:44] \"POST /process_data HTTP/1.1\" 200 -\n"
     ]
    },
    {
     "name": "stdout",
     "output_type": "stream",
     "text": [
      "Debug: Received data from Java: こんにちは\n",
      "Processed in Jupyter Lab: 受信データ: こんにちは\n"
     ]
    },
    {
     "name": "stderr",
     "output_type": "stream",
     "text": [
      "127.0.0.1 - - [04/Feb/2025 16:05:47] \"POST /process_data HTTP/1.1\" 200 -\n"
     ]
    },
    {
     "name": "stdout",
     "output_type": "stream",
     "text": [
      "Debug: Received data from Java: 天気\n",
      "Processed in Jupyter Lab: 本当に素晴らしい天気ですね！\n"
     ]
    },
    {
     "name": "stderr",
     "output_type": "stream",
     "text": [
      "127.0.0.1 - - [04/Feb/2025 16:05:52] \"POST /process_data HTTP/1.1\" 200 -\n"
     ]
    },
    {
     "name": "stdout",
     "output_type": "stream",
     "text": [
      "Debug: Received data from Java: Hello\n",
      "Processed in Jupyter Lab: Hello from Python!\n"
     ]
    }
   ],
   "source": [
    "from flask import Flask, request, jsonify\n",
    "\n",
    "app = Flask(__name__)\n",
    "\n",
    "@app.route('/process_data', methods=['POST'])\n",
    "def process_data():\n",
    "    \"\"\"Jupyter Labに受け渡すデータを受信し、処理を行う\"\"\"\n",
    "\n",
    "    # JSONデータからメッセージを取得し、UTF-8でデコード\n",
    "    received_data = request.json.get('message', '').encode('latin1').decode('utf-8')\n",
    "    if not received_data:\n",
    "        return jsonify({\"error\": \"No data received\"}), 400\n",
    "\n",
    "    # デバッグ出力\n",
    "    print(f\"Debug: Received data from Java: {received_data}\")\n",
    "\n",
    "    # メッセージに基づく応答\n",
    "    if \"Hello\" in received_data:\n",
    "        response_message = \"Hello from Python!\"\n",
    "    elif \"天気\" in received_data:\n",
    "        response_message = \"本当に素晴らしい天気ですね！\"\n",
    "    elif \"週末\" in received_data:\n",
    "        response_message = \"週末はリラックスして過ごしました。あなたはどうでしたか？\"\n",
    "    elif \"ありがとう\" in received_data:\n",
    "        response_message = \"どういたしまして！\"\n",
    "    else:\n",
    "        response_message = f\"受信データ: {received_data}\"\n",
    "\n",
    "    print(f\"Processed in Jupyter Lab: {response_message}\")\n",
    "    return jsonify({\"processed_data\": response_message}), 200, {'Content-Type': 'application/json; charset=utf-8'}\n",
    "\n",
    "if __name__ == '__main__':\n",
    "    app.run(port=5000)  # Flaskサーバーを5000番ポートで実行\n"
   ]
  },
  {
   "cell_type": "code",
   "execution_count": null,
   "id": "7a27445c-75f0-47dd-a7c7-8c4cf08f9f38",
   "metadata": {},
   "outputs": [],
   "source": []
  }
 ],
 "metadata": {
  "kernelspec": {
   "display_name": "Python 3 (ipykernel)",
   "language": "python",
   "name": "python3"
  },
  "language_info": {
   "codemirror_mode": {
    "name": "ipython",
    "version": 3
   },
   "file_extension": ".py",
   "mimetype": "text/x-python",
   "name": "python",
   "nbconvert_exporter": "python",
   "pygments_lexer": "ipython3",
   "version": "3.13.1"
  }
 },
 "nbformat": 4,
 "nbformat_minor": 5
}
